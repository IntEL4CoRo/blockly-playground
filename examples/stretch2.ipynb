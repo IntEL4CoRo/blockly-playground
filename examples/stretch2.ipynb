{
 "cells": [
  {
   "cell_type": "markdown",
   "id": "c7167a5a-8ecb-4e68-b5ab-48f4d8948680",
   "metadata": {
    "execution": {
     "iopub.execute_input": "2024-01-22T16:09:32.961531Z",
     "iopub.status.busy": "2024-01-22T16:09:32.961000Z",
     "iopub.status.idle": "2024-01-22T16:09:32.963371Z",
     "shell.execute_reply": "2024-01-22T16:09:32.962935Z",
     "shell.execute_reply.started": "2024-01-22T16:09:32.961514Z"
    }
   },
   "source": [
    "# Stretch 2 demo\n",
    "\n",
    "Giskard version: [devel](https://github.com/SemRoCo/giskardpy/tree/devel)"
   ]
  },
  {
   "cell_type": "markdown",
   "id": "99761ca0-aa05-42e7-b7fb-9f74dd8d1dd0",
   "metadata": {},
   "source": [
    "## Launch simulation\n",
    "\n",
    "```bash\n",
    "roslaunch /home/jovyan/blockly-playground/launch/stretch_standalone.launch\n",
    "```"
   ]
  },
  {
   "cell_type": "markdown",
   "id": "c62dcdbd-f356-4ae0-b91c-fb70322e21b7",
   "metadata": {},
   "source": [
    "## Control the robot with the Giskard Python Interface\n",
    "\n",
    "> Reference: https://github.com/SemRoCo/giskardpy/wiki/Python-Interface\n",
    "\n",
    "### Giskard api wrapper"
   ]
  },
  {
   "cell_type": "code",
   "execution_count": 1,
   "id": "010a0a96-7567-4b04-85b4-827b625e8bb5",
   "metadata": {
    "execution": {
     "iopub.execute_input": "2024-04-19T15:01:24.572725Z",
     "iopub.status.busy": "2024-04-19T15:01:24.572549Z",
     "iopub.status.idle": "2024-04-19T15:01:25.948683Z",
     "shell.execute_reply": "2024-04-19T15:01:25.947813Z",
     "shell.execute_reply.started": "2024-04-19T15:01:24.572712Z"
    },
    "tags": []
   },
   "outputs": [],
   "source": [
    "import rospy\n",
    "from geometry_msgs.msg import PoseStamped, Point, Quaternion, Vector3Stamped, PointStamped, QuaternionStamped\n",
    "from utils import *"
   ]
  },
  {
   "cell_type": "markdown",
   "id": "cd6795c7-35cd-4959-bd8d-7e9872ae2869",
   "metadata": {},
   "source": [
    "## Diplay joint trajectory controller"
   ]
  },
  {
   "cell_type": "code",
   "execution_count": 2,
   "id": "e216d2b4-0a56-4dc9-9ab2-04781802b29c",
   "metadata": {
    "execution": {
     "iopub.execute_input": "2024-04-19T15:01:25.950734Z",
     "iopub.status.busy": "2024-04-19T15:01:25.950429Z",
     "iopub.status.idle": "2024-04-19T15:01:25.993190Z",
     "shell.execute_reply": "2024-04-19T15:01:25.992865Z",
     "shell.execute_reply.started": "2024-04-19T15:01:25.950706Z"
    },
    "tags": []
   },
   "outputs": [
    {
     "data": {
      "application/vnd.jupyter.widget-view+json": {
       "model_id": "252b1592679e47668807bb23133c5993",
       "version_major": 2,
       "version_minor": 0
      },
      "text/plain": [
       "Box(children=(FloatSlider(value=0.0, description='Moving', max=1.0, min=-1.0, orientation='vertical', readout_…"
      ]
     },
     "metadata": {},
     "output_type": "display_data"
    },
    {
     "data": {
      "application/vnd.jupyter.widget-view+json": {
       "model_id": "cb1f4971015c4eff81126e1d3dd2047c",
       "version_major": 2,
       "version_minor": 0
      },
      "text/plain": [
       "VBox(children=(FloatSlider(value=0.0, continuous_update=False, description='joint_arm_l0', layout=Layout(width…"
      ]
     },
     "metadata": {},
     "output_type": "display_data"
    }
   ],
   "source": [
    "display_joint_trajectory_controller()"
   ]
  },
  {
   "cell_type": "markdown",
   "id": "39d05ea4-7c1f-4022-9e5a-dad42ac3d1d2",
   "metadata": {},
   "source": [
    "#### 3.1.1 cartesian motion"
   ]
  },
  {
   "cell_type": "code",
   "execution_count": 10,
   "id": "7390ad9d-390f-458d-a842-c0f9650100cf",
   "metadata": {
    "execution": {
     "iopub.execute_input": "2024-04-19T15:08:09.890772Z",
     "iopub.status.busy": "2024-04-19T15:08:09.890331Z",
     "iopub.status.idle": "2024-04-19T15:08:10.117328Z",
     "shell.execute_reply": "2024-04-19T15:08:10.116834Z",
     "shell.execute_reply.started": "2024-04-19T15:08:09.890754Z"
    },
    "scrolled": true,
    "tags": []
   },
   "outputs": [
    {
     "name": "stdout",
     "output_type": "stream",
     "text": [
      "shutdown request: [/giskard_blockly_playground] Reason: new node registered with same name\n"
     ]
    }
   ],
   "source": [
    "# List all the links\n",
    "# print(get_links())\n",
    "\n",
    "# Move the robot to a absolute position\n",
    "add_cartesian_position(Point(0, 0, 0))\n",
    "\n",
    "# Rotate robot body (absolute Coordinate)\n",
    "# add_cartesian_orientation(Quaternion(0, 0, 0, 1))"
   ]
  },
  {
   "cell_type": "markdown",
   "id": "b3effd91-55d7-4c7d-93f8-2a81ac44cdad",
   "metadata": {},
   "source": [
    "#### 3.1.2 Control joints"
   ]
  },
  {
   "cell_type": "code",
   "execution_count": 8,
   "id": "0f28ebc3-2bb7-4a95-8cd0-0c449c4d55fb",
   "metadata": {
    "execution": {
     "iopub.execute_input": "2024-04-19T15:05:11.446514Z",
     "iopub.status.busy": "2024-04-19T15:05:11.446147Z",
     "iopub.status.idle": "2024-04-19T15:05:11.736678Z",
     "shell.execute_reply": "2024-04-19T15:05:11.736180Z",
     "shell.execute_reply.started": "2024-04-19T15:05:11.446500Z"
    },
    "tags": []
   },
   "outputs": [
    {
     "name": "stdout",
     "output_type": "stream",
     "text": [
      "['brumbrum', 'joint_arm_l0', 'joint_arm_l1', 'joint_arm_l2', 'joint_arm_l3', 'joint_gripper_finger_left', 'joint_gripper_finger_right', 'joint_head_pan', 'joint_head_tilt', 'joint_left_wheel', 'joint_lift', 'joint_right_wheel', 'joint_wrist_yaw']\n"
     ]
    }
   ],
   "source": [
    "print(get_controlled_joints())\n",
    "\n",
    "add_joint_position([{\n",
    "    'joint_head_pan': 1.3\n",
    "}])"
   ]
  },
  {
   "cell_type": "markdown",
   "id": "820b00f1-f6cc-4507-b69c-1dc566642dd8",
   "metadata": {},
   "source": [
    "## TODOS\n",
    "- Fix the interactive markers proxy on rvizweb"
   ]
  }
 ],
 "metadata": {
  "kernelspec": {
   "display_name": "Python 3 (ipykernel)",
   "language": "python",
   "name": "python3"
  },
  "language_info": {
   "codemirror_mode": {
    "name": "ipython",
    "version": 3
   },
   "file_extension": ".py",
   "mimetype": "text/x-python",
   "name": "python",
   "nbconvert_exporter": "python",
   "pygments_lexer": "ipython3",
   "version": "3.10.6"
  }
 },
 "nbformat": 4,
 "nbformat_minor": 5
}
