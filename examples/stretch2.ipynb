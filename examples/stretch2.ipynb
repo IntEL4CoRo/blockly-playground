{
 "cells": [
  {
   "cell_type": "markdown",
   "id": "c7167a5a-8ecb-4e68-b5ab-48f4d8948680",
   "metadata": {
    "execution": {
     "iopub.execute_input": "2024-01-22T16:09:32.961531Z",
     "iopub.status.busy": "2024-01-22T16:09:32.961000Z",
     "iopub.status.idle": "2024-01-22T16:09:32.963371Z",
     "shell.execute_reply": "2024-01-22T16:09:32.962935Z",
     "shell.execute_reply.started": "2024-01-22T16:09:32.961514Z"
    }
   },
   "source": [
    "# Stretch 2 demo\n",
    "\n",
    "Giskard version: [devel](https://github.com/SemRoCo/giskardpy/tree/devel)"
   ]
  },
  {
   "cell_type": "markdown",
   "id": "c62dcdbd-f356-4ae0-b91c-fb70322e21b7",
   "metadata": {},
   "source": [
    "## Control the robot with the Giskard Python Interface\n",
    "\n",
    "> Reference: https://github.com/SemRoCo/giskardpy/wiki/Python-Interface\n",
    "\n",
    "### Giskard api wrapper"
   ]
  },
  {
   "cell_type": "code",
   "execution_count": 1,
   "id": "010a0a96-7567-4b04-85b4-827b625e8bb5",
   "metadata": {
    "execution": {
     "iopub.execute_input": "2024-04-22T12:38:39.043968Z",
     "iopub.status.busy": "2024-04-22T12:38:39.043672Z",
     "iopub.status.idle": "2024-04-22T12:38:41.182168Z",
     "shell.execute_reply": "2024-04-22T12:38:41.180915Z",
     "shell.execute_reply.started": "2024-04-22T12:38:39.043935Z"
    },
    "tags": []
   },
   "outputs": [],
   "source": [
    "import pprint\n",
    "import math\n",
    "from geometry_msgs.msg import PoseStamped, Point, Quaternion, Vector3Stamped, PointStamped, QuaternionStamped\n",
    "from utils import *"
   ]
  },
  {
   "cell_type": "markdown",
   "id": "cd6795c7-35cd-4959-bd8d-7e9872ae2869",
   "metadata": {},
   "source": [
    "## Diplay joint trajectory controller"
   ]
  },
  {
   "cell_type": "code",
   "execution_count": 2,
   "id": "e216d2b4-0a56-4dc9-9ab2-04781802b29c",
   "metadata": {
    "execution": {
     "iopub.execute_input": "2024-04-22T12:38:42.577779Z",
     "iopub.status.busy": "2024-04-22T12:38:42.577337Z",
     "iopub.status.idle": "2024-04-22T12:38:42.687471Z",
     "shell.execute_reply": "2024-04-22T12:38:42.686333Z",
     "shell.execute_reply.started": "2024-04-22T12:38:42.577745Z"
    },
    "tags": []
   },
   "outputs": [
    {
     "data": {
      "application/vnd.jupyter.widget-view+json": {
       "model_id": "8472fd0b62f145b58ad62398170e0feb",
       "version_major": 2,
       "version_minor": 0
      },
      "text/plain": [
       "VBox(children=(FloatSlider(value=0.0035011235669673703, continuous_update=False, description='joint_arm_l0 [0.…"
      ]
     },
     "metadata": {},
     "output_type": "display_data"
    }
   ],
   "source": [
    "display_joint_trajectory_controller()"
   ]
  },
  {
   "cell_type": "markdown",
   "id": "39d05ea4-7c1f-4022-9e5a-dad42ac3d1d2",
   "metadata": {},
   "source": [
    "#### 3.1.1 cartesian motion"
   ]
  },
  {
   "cell_type": "code",
   "execution_count": 3,
   "id": "cf659c89-5c3f-4b73-82dc-8fe01581da67",
   "metadata": {
    "execution": {
     "iopub.execute_input": "2024-04-22T12:38:46.858342Z",
     "iopub.status.busy": "2024-04-22T12:38:46.857813Z",
     "iopub.status.idle": "2024-04-22T12:38:47.305401Z",
     "shell.execute_reply": "2024-04-22T12:38:47.304171Z",
     "shell.execute_reply.started": "2024-04-22T12:38:46.858263Z"
    },
    "scrolled": true,
    "tags": []
   },
   "outputs": [],
   "source": [
    "# List all the links\n",
    "# print(get_links())\n",
    "\n",
    "# Move the robot to a absolute position\n",
    "add_cartesian_position(Point(0, 0, 0))"
   ]
  },
  {
   "cell_type": "code",
   "execution_count": 4,
   "id": "a11f972a-6bda-493b-bbd0-572da5d718fc",
   "metadata": {
    "execution": {
     "iopub.execute_input": "2024-04-22T12:38:49.138605Z",
     "iopub.status.busy": "2024-04-22T12:38:49.138148Z",
     "iopub.status.idle": "2024-04-22T12:38:50.118045Z",
     "shell.execute_reply": "2024-04-22T12:38:50.116985Z",
     "shell.execute_reply.started": "2024-04-22T12:38:49.138571Z"
    },
    "scrolled": true,
    "tags": []
   },
   "outputs": [],
   "source": [
    "# Rotate robot body (absolute Coordinate)\n",
    "degree = 90\n",
    "quat = Quaternion(0, 0, (math.sin((degree / 2) / 180.0 * math.pi)), (math.cos((degree / 2) / 180.0 * math.pi)))\n",
    "add_cartesian_orientation(quat)"
   ]
  },
  {
   "cell_type": "markdown",
   "id": "b3effd91-55d7-4c7d-93f8-2a81ac44cdad",
   "metadata": {},
   "source": [
    "#### 3.1.2 Control joints"
   ]
  },
  {
   "cell_type": "code",
   "execution_count": 5,
   "id": "ad57875b-8196-443f-bec4-24dcaf89ea4b",
   "metadata": {
    "execution": {
     "iopub.execute_input": "2024-04-22T12:38:53.259411Z",
     "iopub.status.busy": "2024-04-22T12:38:53.258245Z",
     "iopub.status.idle": "2024-04-22T12:38:53.312657Z",
     "shell.execute_reply": "2024-04-22T12:38:53.311534Z",
     "shell.execute_reply.started": "2024-04-22T12:38:53.259370Z"
    },
    "tags": []
   },
   "outputs": [
    {
     "name": "stdout",
     "output_type": "stream",
     "text": [
      "==================================================\n",
      "Joint \"brumbrum\" not found in URDF!\n",
      "==================================================\n",
      "joint_arm_l0\n",
      "{'min_position': 0.0,\n",
      " 'max_position': 0.13,\n",
      " 'has_position_limits': True,\n",
      " 'max_velocity': 1.0}\n",
      "==================================================\n",
      "joint_arm_l1\n",
      "{'min_position': 0.0,\n",
      " 'max_position': 0.13,\n",
      " 'has_position_limits': True,\n",
      " 'max_velocity': 1.0}\n",
      "==================================================\n",
      "joint_arm_l2\n",
      "{'min_position': 0.0,\n",
      " 'max_position': 0.13,\n",
      " 'has_position_limits': True,\n",
      " 'max_velocity': 1.0}\n",
      "==================================================\n",
      "joint_arm_l3\n",
      "{'min_position': 0.0,\n",
      " 'max_position': 0.13,\n",
      " 'has_position_limits': True,\n",
      " 'max_velocity': 1.0}\n",
      "==================================================\n",
      "joint_gripper_finger_left\n",
      "{'min_position': -0.6,\n",
      " 'max_position': 0.6,\n",
      " 'has_position_limits': True,\n",
      " 'max_velocity': 1.0}\n",
      "==================================================\n",
      "joint_gripper_finger_right\n",
      "{'min_position': -0.6,\n",
      " 'max_position': 0.6,\n",
      " 'has_position_limits': True,\n",
      " 'max_velocity': 1.0}\n",
      "==================================================\n",
      "joint_head_pan\n",
      "{'min_position': -3.9,\n",
      " 'max_position': 1.5,\n",
      " 'has_position_limits': True,\n",
      " 'max_velocity': 1.0}\n",
      "==================================================\n",
      "joint_head_tilt\n",
      "{'min_position': -1.53,\n",
      " 'max_position': 0.79,\n",
      " 'has_position_limits': True,\n",
      " 'max_velocity': 1.0}\n",
      "==================================================\n",
      "Joint \"joint_left_wheel\" not found in URDF!\n",
      "==================================================\n",
      "joint_lift\n",
      "{'min_position': 0.0,\n",
      " 'max_position': 1.1,\n",
      " 'has_position_limits': True,\n",
      " 'max_velocity': 1.0}\n",
      "==================================================\n",
      "Joint \"joint_right_wheel\" not found in URDF!\n",
      "==================================================\n",
      "joint_wrist_yaw\n",
      "{'min_position': -1.75,\n",
      " 'max_position': 4.0,\n",
      " 'has_position_limits': True,\n",
      " 'max_velocity': 1.0}\n"
     ]
    }
   ],
   "source": [
    "stretch_joints = get_controlled_joints()\n",
    "stretch_joints_limits = get_controlled_joints_limits()\n",
    "for j_name in stretch_joints:\n",
    "    print('='*50)\n",
    "    if j_name in stretch_joints_limits:\n",
    "        print(j_name)\n",
    "        pprint.pp(stretch_joints_limits[j_name])\n",
    "    else:\n",
    "        print(f'Joint \"{j_name}\" not found in URDF!')"
   ]
  },
  {
   "cell_type": "code",
   "execution_count": 7,
   "id": "0f28ebc3-2bb7-4a95-8cd0-0c449c4d55fb",
   "metadata": {
    "execution": {
     "iopub.execute_input": "2024-04-22T12:39:02.258314Z",
     "iopub.status.busy": "2024-04-22T12:39:02.257688Z",
     "iopub.status.idle": "2024-04-22T12:39:02.647639Z",
     "shell.execute_reply": "2024-04-22T12:39:02.646269Z",
     "shell.execute_reply.started": "2024-04-22T12:39:02.258264Z"
    },
    "tags": []
   },
   "outputs": [],
   "source": [
    "add_joint_position([{\n",
    "    'joint_head_pan': 0\n",
    "}])"
   ]
  },
  {
   "cell_type": "markdown",
   "id": "820b00f1-f6cc-4507-b69c-1dc566642dd8",
   "metadata": {},
   "source": [
    "## TODOS\n",
    "- Fix the interactive markers proxy on rvizweb"
   ]
  }
 ],
 "metadata": {
  "kernelspec": {
   "display_name": "Python 3 (ipykernel)",
   "language": "python",
   "name": "python3"
  },
  "language_info": {
   "codemirror_mode": {
    "name": "ipython",
    "version": 3
   },
   "file_extension": ".py",
   "mimetype": "text/x-python",
   "name": "python",
   "nbconvert_exporter": "python",
   "pygments_lexer": "ipython3",
   "version": "3.10.6"
  }
 },
 "nbformat": 4,
 "nbformat_minor": 5
}
