{
 "cells": [
  {
   "cell_type": "markdown",
   "id": "c7167a5a-8ecb-4e68-b5ab-48f4d8948680",
   "metadata": {
    "execution": {
     "iopub.execute_input": "2024-01-22T16:09:32.961531Z",
     "iopub.status.busy": "2024-01-22T16:09:32.961000Z",
     "iopub.status.idle": "2024-01-22T16:09:32.963371Z",
     "shell.execute_reply": "2024-01-22T16:09:32.962935Z",
     "shell.execute_reply.started": "2024-01-22T16:09:32.961514Z"
    }
   },
   "source": [
    "# Mujoco Environment Editing \n",
    "\n",
    "Edit apartment simulation envionment (PR2_mujoco only)"
   ]
  },
  {
   "cell_type": "markdown",
   "id": "5b260c9e-9007-4dd8-a9f0-92e0ac703f7b",
   "metadata": {},
   "source": [
    "##### Edit the XML file with python code\n",
    "\n",
    "Add 10 random balls "
   ]
  },
  {
   "cell_type": "code",
   "execution_count": 8,
   "id": "fbfaf4e5-f698-435f-9ada-454337a11e03",
   "metadata": {
    "execution": {
     "iopub.execute_input": "2025-06-17T10:00:05.747554Z",
     "iopub.status.busy": "2025-06-17T10:00:05.747323Z",
     "iopub.status.idle": "2025-06-17T10:00:05.764665Z",
     "shell.execute_reply": "2025-06-17T10:00:05.764140Z",
     "shell.execute_reply.started": "2025-06-17T10:00:05.747539Z"
    },
    "tags": []
   },
   "outputs": [],
   "source": [
    "import xml.etree.ElementTree as ET\n",
    "import random\n",
    "import string\n",
    "\n",
    "# Load the XML file\n",
    "mujoco_world_xml_path = '../launch/mujoco_config/iai_apartment_base.xml'\n",
    "mujoco_world_xml = ET.parse(mujoco_world_xml_path)\n",
    "xml_root = mujoco_world_xml.getroot()\n",
    "\n",
    "def create_cup(pos, color, name, friction=\"2 0.005 0.0001\"):\n",
    "    new_element = ET.Element('worldbody')\n",
    "    new_element.append(ET.fromstring(f\"\"\"\n",
    "    <body name=\"{name}\" pos=\"{pos}\">\n",
    "        <freejoint/>\n",
    "        <inertial pos=\"0.0 0.0 0.0\" mass=\"0.01\" diaginertia=\"0.0008 0.0008 0.00015\" />\n",
    "        <geom friction=\"{friction}\" type=\"box\" pos=\"0 0 -0.076\" size=\"0.03 0.03 0.03\" rgba=\"{color}\"/>\n",
    "        <geom friction=\"{friction}\" type=\"box\" pos=\"0.03 0 0\" euler=\"0 0 0\" size=\"0.0044 0.013420519420888278 0.08\" rgba=\"{color}\" />\n",
    "        <geom friction=\"{friction}\" type=\"box\" pos=\"0.021213 0.021213 0\" euler=\"0 0 0.7853981633974483\" size=\"0.0044 0.013420519420888278 0.08\" rgba=\"{color}\" />\n",
    "        <geom friction=\"{friction}\" type=\"box\" pos=\"0 0.03 0\" euler=\"0 0 1.5707963267948966\" size=\"0.0044 0.013420519420888278 0.08\" rgba=\"{color}\" />\n",
    "        <geom friction=\"{friction}\" type=\"box\" pos=\"-0.021213 0.021213 0\" euler=\"0 0 2.356194490192345\" size=\"0.0044 0.013420519420888278 0.08\" rgba=\"{color}\" />\n",
    "        <geom friction=\"{friction}\" type=\"box\" pos=\"-0.03 0 0\" euler=\"0 0 3.141592653589793\" size=\"0.0044 0.013420519420888278 0.08\" rgba=\"{color}\" />\n",
    "        <geom friction=\"{friction}\" type=\"box\" pos=\"-0.021213 -0.021213 0\" euler=\"0 0 -2.356194490192345\" size=\"0.0044 0.013420519420888278 0.08\" rgba=\"{color}\" />\n",
    "        <geom friction=\"{friction}\" type=\"box\" pos=\"0 -0.03 0\" euler=\"0 0 -1.5707963267948966\" size=\"0.0044 0.013420519420888278 0.08\" rgba=\"{color}\" />\n",
    "        <geom friction=\"{friction}\" type=\"box\" pos=\"0.021213 -0.021213 0\" euler=\"0 0 -0.7853981633974483\" size=\"0.0044 0.013420519420888278 0.08\" rgba=\"{color}\" />\n",
    "    </body>\n",
    "    \"\"\"))\n",
    "    # new_element.append(ET.fromstring(f\"\"\"\n",
    "    # <body name=\"{name}\" pos=\"{pos}\">\n",
    "    #     <freejoint/>\n",
    "    #     <geom name=\"handle1\" type=\"box\" size=\"0.03 0.03 0.01\" pos=\"0 0.12 0.04\" rgba=\"0 1 0 1\"/>\n",
    "    #     <geom name=\"handle2\" type=\"box\" size=\"0.03 0.03 0.01\" pos=\"0 -0.12 0.04\" rgba=\"0 1 0 1\"/>\n",
    "    #     <geom name=\"bottom\" type=\"box\" size=\"0.1 0.1 0.03\" pos=\"0 0 -0.00\" rgba=\"{color}\"/>\n",
    "    #     <geom name=\"side1\" type=\"box\" size=\"0.01 0.1 0.05\" pos=\"0.09 0 0.04\" rgba=\"{color}\"/>\n",
    "    #     <geom name=\"side2\" type=\"box\" size=\"0.01 0.1 0.05\" pos=\"-0.09 0 0.04\" rgba=\"{color}\"/>\n",
    "    #     <geom name=\"side3\" type=\"box\" size=\"0.1 0.01 0.05\" pos=\"0 0.09 0.04\" rgba=\"{color}\"/>\n",
    "    #     <geom name=\"side4\" type=\"box\" size=\"0.1 0.01 0.05\" pos=\"0 -0.09 0.04\" rgba=\"{color}\"/>\n",
    "    # </body>\n",
    "    # \"\"\"))\n",
    "    return new_element\n",
    "\n",
    "def create_boxes(pos, size=\"0.02\", num=1, mass=\"0.001\", color=\"0 0 1 1\"):\n",
    "    new_element = ET.Element('worldbody')\n",
    "    pos = pos.split(\" \")\n",
    "    for i in range(num):\n",
    "        name_suffix = ''.join(random.choice(string.ascii_letters) for _ in range(8))\n",
    "        pos_x = float(pos[0]) + 0.3 * i\n",
    "        height= 0.1\n",
    "        new_element.append(ET.fromstring(f\"\"\"\n",
    "        <body name=\"ball{name_suffix}\" pos=\"{pos_x} {pos[1]} {pos[2]}\">\n",
    "            <freejoint />\n",
    "            <inertial pos=\"0.0 0.0 0.0\" mass=\"{mass}\" diaginertia=\"0.000000001 0.000000001 0.000000001\" />\n",
    "            <geom type=\"box\" pos=\"0 0 0\" size=\"{size} {size} {height}\" rgba=\"{color}\"/>\n",
    "            <geom type=\"box\" pos=\"0 0 0.1\" size=\"{size} 0.05 {size}\" rgba=\"{color}\"/>\n",
    "       </body>\n",
    "        \"\"\"))\n",
    "    return new_element\n",
    "\n",
    "def create_spheres(pos, size=\"0.018\", num=3, mass=\"0.0001\", color=\"0.678 0.847 0.902 1\"):\n",
    "    new_element = ET.Element('worldbody')\n",
    "    pos = pos.split(\" \")\n",
    "    for i in range(num):\n",
    "        name_suffix = ''.join(random.choice(string.ascii_letters) for _ in range(8))\n",
    "        pos[2] = float(pos[2]) + (float(size) * 1.2 * num)\n",
    "        new_element.append(ET.fromstring(f\"\"\"\n",
    "        <body name=\"ball{name_suffix}\" pos=\"{pos[0]} {pos[1]} {pos[2]}\">\n",
    "            <freejoint />\n",
    "            <inertial pos=\"0.0 0.0 0.0\" mass=\"{size}\" diaginertia=\"0.000000001 0.000000001 0.000000001\" />\n",
    "            <geom friction=\"1 0.005 0.0001\" type=\"sphere\" size=\"{size}\" rgba=\"{color}\" />\n",
    "       </body>\n",
    "        \"\"\"))\n",
    "    return new_element\n",
    "\n",
    "\n",
    "\n",
    "# Add cups\n",
    "# for i in range(2,3):\n",
    "#     cup_white_pos = f\"2.4 2.{i} 1.2\"\n",
    "# i =1\n",
    "cup_white_pos = f\"2.35 2.2 1.08\"\n",
    "# xml_root.append(create_boxes(pos=cup_white_pos, color=\"1 1 0 1\"))\n",
    "xml_root.append(create_cup(pos=cup_white_pos, color=\"1 1 1 0.6\", name=f\"free_cup_w\", friction=\"2.8 0.005 0.0001\"))\n",
    "xml_root.append(create_spheres(pos=cup_white_pos))\n",
    "\n",
    "cup_green_pos = \"2.35 2.5 1.08\"\n",
    "xml_root.append(create_cup(pos=cup_green_pos, color=\"0 1 0 0.4\", name=\"free_cup_g\", friction=\"2.8 0.005 0.0001\"))\n",
    "xml_root.append(create_spheres(pos=cup_green_pos))\n",
    "\n",
    "cup_red_pos = \"2.35 2.8 1.08\"\n",
    "xml_root.append(create_cup(pos=cup_red_pos, color=\"1 0 0 0.4\", name=\"free_cup_b\", friction=\"2.8 0.005 0.0001\"))\n",
    "xml_root.append(create_spheres(pos=cup_red_pos, size=\"0.01\", num=10))\n",
    "\n",
    "# cup_yellow_pos = \"2.8 2.7 1.08\"\n",
    "# xml_root.append(create_cup(pos=cup_yellow_pos, color=\"1 1 0 1\", name=\"free_cup_y\", friction=\"2 0.005 0.0001\"))\n",
    "# xml_root.append(create_spheres(pos=cup_yellow_pos))\n",
    "\n",
    "# Save the modified XML tree back to the file\n",
    "mujoco_world_output_path = '../launch/mujoco_config/iai_apartment_with_window4.xml'\n",
    "mujoco_world_xml.write(mujoco_world_output_path)"
   ]
  },
  {
   "cell_type": "markdown",
   "id": "8bfd7a93-9b46-4a4d-b84c-487d8048d36f",
   "metadata": {},
   "source": [
    "## Test environment"
   ]
  },
  {
   "cell_type": "code",
   "execution_count": 2,
   "id": "978f68b6-e4b3-425d-986e-dfa166fcd9cb",
   "metadata": {
    "execution": {
     "iopub.execute_input": "2025-06-17T09:50:55.253754Z",
     "iopub.status.busy": "2025-06-17T09:50:55.253505Z",
     "iopub.status.idle": "2025-06-17T09:50:55.258508Z",
     "shell.execute_reply": "2025-06-17T09:50:55.257693Z",
     "shell.execute_reply.started": "2025-06-17T09:50:55.253726Z"
    },
    "scrolled": true,
    "tags": []
   },
   "outputs": [],
   "source": [
    "# !roslaunch /home/jovyan/blockly-playground/launch/pr2_mujoco.launch mujoco_suffix:=_headless\n",
    "\n",
    "# !roslaunch /home/jovyan/blockly-playground/launch/pr2_mujoco.launch"
   ]
  },
  {
   "cell_type": "code",
   "execution_count": null,
   "id": "258d9e20-d18d-4b3b-a4c4-61ac934e51ba",
   "metadata": {},
   "outputs": [],
   "source": []
  }
 ],
 "metadata": {
  "kernelspec": {
   "display_name": "Python 3 (ipykernel)",
   "language": "python",
   "name": "python3"
  },
  "language_info": {
   "codemirror_mode": {
    "name": "ipython",
    "version": 3
   },
   "file_extension": ".py",
   "mimetype": "text/x-python",
   "name": "python",
   "nbconvert_exporter": "python",
   "pygments_lexer": "ipython3",
   "version": "3.10.6"
  }
 },
 "nbformat": 4,
 "nbformat_minor": 5
}
