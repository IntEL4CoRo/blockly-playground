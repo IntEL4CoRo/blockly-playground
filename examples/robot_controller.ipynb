{
 "cells": [
  {
   "cell_type": "code",
   "execution_count": 2,
   "id": "c320bbb9-a51b-4180-8d53-95c68e36ff11",
   "metadata": {
    "execution": {
     "iopub.execute_input": "2024-03-05T19:48:49.795850Z",
     "iopub.status.busy": "2024-03-05T19:48:49.794925Z",
     "iopub.status.idle": "2024-03-05T19:48:52.064824Z",
     "shell.execute_reply": "2024-03-05T19:48:52.063271Z",
     "shell.execute_reply.started": "2024-03-05T19:48:49.795809Z"
    },
    "tags": []
   },
   "outputs": [],
   "source": [
    "import rospy\n",
    "from ipywidgets import Button, Layout, GridBox, VBox, Box, FloatSlider, Checkbox, interact\n",
    "from IPython.display import display, IFrame, HTML\n",
    "from sidecar import Sidecar\n",
    "\n",
    "from giskardpy.python_interface.python_interface import GiskardWrapper\n",
    "from giskardpy.goals.joint_goals import JointPositionList\n",
    "from giskardpy.monitors.joint_monitors import JointGoalReached\n",
    "from geometry_msgs.msg import Twist, PoseStamped, Point, Quaternion, Vector3Stamped, PointStamped, QuaternionStamped\n",
    "import roslib; roslib.load_manifest('urdfdom_py')\n",
    "from rqt_joint_trajectory_controller import joint_limits_urdf\n",
    "\n",
    "CMD_VEL_TOPIC = '/pr2/cmd_vel'\n",
    "ROBOT_DESCRIPTION = '/pr2/robot_description'\n",
    "cmd_vel_pub = rospy.Publisher(CMD_VEL_TOPIC, Twist, queue_size=100)\n",
    "cmd_vel_msg = Twist()\n",
    "rospy.init_node('giskard_notebook_playground')\n",
    "gk_wrapper = GiskardWrapper()"
   ]
  },
  {
   "cell_type": "code",
   "execution_count": 3,
   "id": "93ab89bb-0036-4ae5-b050-2a2816ae0d12",
   "metadata": {
    "execution": {
     "iopub.execute_input": "2024-03-05T19:48:55.778648Z",
     "iopub.status.busy": "2024-03-05T19:48:55.778164Z",
     "iopub.status.idle": "2024-03-05T19:48:55.801968Z",
     "shell.execute_reply": "2024-03-05T19:48:55.800877Z",
     "shell.execute_reply.started": "2024-03-05T19:48:55.778613Z"
    },
    "jupyter": {
     "source_hidden": true
    },
    "tags": []
   },
   "outputs": [],
   "source": [
    "# get all robot links\n",
    "def get_controlled_joints():\n",
    "    return gk_wrapper.world.get_controlled_joints(gk_wrapper.world.get_group_names()[0])\n",
    "\n",
    "# joint position motion\n",
    "def add_joint_position(joint_goal_list):\n",
    "    joint_goal = {key: value for d in joint_goal_list for key, value in d.items()}\n",
    "    gk_wrapper.motion_goals.add_joint_position(goal_state=joint_goal)\n",
    "    gk_wrapper.add_default_end_motion_conditions()\n",
    "    gk_wrapper.execute()\n",
    "\n",
    "# robot_steering, similar to \"rqt_robot_steering\"\n",
    "linear_x = FloatSlider(\n",
    "    value=0,\n",
    "    min=-1,\n",
    "    max=1,\n",
    "    step=0.1,\n",
    "    description='Moving',\n",
    "    orientation='vertical',\n",
    "    readout=True,\n",
    "    readout_format='.1f',\n",
    ")\n",
    "\n",
    "def get_joint_state():\n",
    "    return gk_wrapper.world.get_group_info(gk_wrapper.world.get_group_names()[0]).joint_state\n",
    "\n",
    "def on_linear_x_change(v):\n",
    "    cmd_vel_msg.linear.x = v\n",
    "    cmd_vel_pub.publish(cmd_vel_msg)\n",
    "\n",
    "linear_x.observe(lambda v: on_linear_x_change(v['new']), names='value')\n",
    "\n",
    "# slider for rotation velocity\n",
    "angular_z = FloatSlider(\n",
    "    value=0,\n",
    "    min=-1,\n",
    "    max=1,\n",
    "    step=0.1,\n",
    "    description='Rotation',\n",
    "    readout=True,\n",
    "    readout_format='.1f',\n",
    ")\n",
    "\n",
    "def on_angular_z_change(v):\n",
    "    cmd_vel_msg.angular.z = -v\n",
    "    cmd_vel_pub.publish(cmd_vel_msg)\n",
    "\n",
    "angular_z.observe(lambda v: on_angular_z_change(v['new']), names='value')\n",
    "\n",
    "def generate_slider(config):\n",
    "    slider = FloatSlider(\n",
    "        value=config['value'],\n",
    "        min=config['min'],\n",
    "        max=config['max'],\n",
    "        step=(config['max'] - config['min']) / 20,\n",
    "        continuous_update=False,\n",
    "        description=config['name'],\n",
    "        readout=True,\n",
    "        layout=Layout(width='100%'),\n",
    "        style=dict(\n",
    "            description_width='10rem'\n",
    "        ),\n",
    "        readout_format='.3f',\n",
    "    )\n",
    "    slider.observe(lambda v: add_joint_position([{config['name']: v['new']}]), names='value')\n",
    "    return slider\n",
    "\n",
    "def format_slider_config(j_name):\n",
    "    if j_name in joint_limits:\n",
    "        config = {}\n",
    "        config['name'] = j_name\n",
    "        config['min'] = joint_limits[j_name]['min_position']\n",
    "        config['max'] = joint_limits[j_name]['max_position']\n",
    "        config['value'] = joint_state.position[[i.split('/')[1] for i in joint_state.name].index(j_name)]\n",
    "        return config\n",
    "    else:\n",
    "        # print(f\"Joint '{j_name}' not found in URDF!\")\n",
    "        return None"
   ]
  },
  {
   "cell_type": "code",
   "execution_count": 4,
   "id": "06975864-d8fb-485f-8b9f-ac23b978d97d",
   "metadata": {
    "collapsed": true,
    "execution": {
     "iopub.execute_input": "2024-03-05T19:48:56.985284Z",
     "iopub.status.busy": "2024-03-05T19:48:56.984695Z",
     "iopub.status.idle": "2024-03-05T19:48:57.117599Z",
     "shell.execute_reply": "2024-03-05T19:48:57.116885Z",
     "shell.execute_reply.started": "2024-03-05T19:48:56.985249Z"
    },
    "jupyter": {
     "outputs_hidden": true
    },
    "tags": []
   },
   "outputs": [
    {
     "data": {
      "application/vnd.jupyter.widget-view+json": {
       "model_id": "c111210fe91b414ab31e2bf796f24efa",
       "version_major": 2,
       "version_minor": 0
      },
      "text/plain": [
       "Box(children=(FloatSlider(value=0.0, description='Moving', max=1.0, min=-1.0, orientation='vertical', readout_…"
      ]
     },
     "metadata": {},
     "output_type": "display_data"
    },
    {
     "data": {
      "application/vnd.jupyter.widget-view+json": {
       "model_id": "f87636d021c34728a45f30528a54b1c5",
       "version_major": 2,
       "version_minor": 0
      },
      "text/plain": [
       "VBox(children=(FloatSlider(value=-2.8264855897591095e-08, continuous_update=False, description='head_pan_joint…"
      ]
     },
     "metadata": {},
     "output_type": "display_data"
    }
   ],
   "source": [
    "# Display Sliders\n",
    "joint_limits = joint_limits_urdf.get_joint_limits(key=ROBOT_DESCRIPTION)\n",
    "joint_state = get_joint_state()\n",
    "joint_slider_config = [format_slider_config(i) for i in get_controlled_joints()]\n",
    "joint_slider_config = [x for x in joint_slider_config if x is not None]\n",
    "joint_slider_config = sorted(joint_slider_config, key=lambda x: x['name'])\n",
    "joint_slider_widgets = [generate_slider(i) for i in joint_slider_config]\n",
    "display(Box([linear_x, angular_z]))\n",
    "display(VBox(joint_slider_widgets))"
   ]
  }
 ],
 "metadata": {
  "kernelspec": {
   "display_name": "Python 3 (ipykernel)",
   "language": "python",
   "name": "python3"
  },
  "language_info": {
   "codemirror_mode": {
    "name": "ipython",
    "version": 3
   },
   "file_extension": ".py",
   "mimetype": "text/x-python",
   "name": "python",
   "nbconvert_exporter": "python",
   "pygments_lexer": "ipython3",
   "version": "3.10.6"
  }
 },
 "nbformat": 4,
 "nbformat_minor": 5
}
